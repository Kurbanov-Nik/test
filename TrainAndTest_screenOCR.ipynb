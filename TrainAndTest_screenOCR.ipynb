{
  "nbformat": 4,
  "nbformat_minor": 0,
  "metadata": {
    "colab": {
      "provenance": []
    },
    "kernelspec": {
      "name": "python3",
      "display_name": "Python 3"
    },
    "language_info": {
      "name": "python"
    }
  },
  "cells": [
    {
      "cell_type": "code",
      "source": [
        "!pip install tensorflow==2.15.0"
      ],
      "metadata": {
        "colab": {
          "base_uri": "https://localhost:8080/",
          "height": 1000
        },
        "collapsed": true,
        "id": "C5hSee3CF-K5",
        "outputId": "6bf4ebc9-3051-4f2e-f5a3-daa1237cd771"
      },
      "execution_count": null,
      "outputs": [
        {
          "output_type": "stream",
          "name": "stdout",
          "text": [
            "Collecting tensorflow==2.15.0\n",
            "  Downloading tensorflow-2.15.0-cp310-cp310-manylinux_2_17_x86_64.manylinux2014_x86_64.whl.metadata (4.4 kB)\n",
            "Requirement already satisfied: absl-py>=1.0.0 in /usr/local/lib/python3.10/dist-packages (from tensorflow==2.15.0) (1.4.0)\n",
            "Requirement already satisfied: astunparse>=1.6.0 in /usr/local/lib/python3.10/dist-packages (from tensorflow==2.15.0) (1.6.3)\n",
            "Requirement already satisfied: flatbuffers>=23.5.26 in /usr/local/lib/python3.10/dist-packages (from tensorflow==2.15.0) (24.3.25)\n",
            "Requirement already satisfied: gast!=0.5.0,!=0.5.1,!=0.5.2,>=0.2.1 in /usr/local/lib/python3.10/dist-packages (from tensorflow==2.15.0) (0.6.0)\n",
            "Requirement already satisfied: google-pasta>=0.1.1 in /usr/local/lib/python3.10/dist-packages (from tensorflow==2.15.0) (0.2.0)\n",
            "Requirement already satisfied: h5py>=2.9.0 in /usr/local/lib/python3.10/dist-packages (from tensorflow==2.15.0) (3.11.0)\n",
            "Requirement already satisfied: libclang>=13.0.0 in /usr/local/lib/python3.10/dist-packages (from tensorflow==2.15.0) (18.1.1)\n",
            "Collecting ml-dtypes~=0.2.0 (from tensorflow==2.15.0)\n",
            "  Downloading ml_dtypes-0.2.0-cp310-cp310-manylinux_2_17_x86_64.manylinux2014_x86_64.whl.metadata (20 kB)\n",
            "Requirement already satisfied: numpy<2.0.0,>=1.23.5 in /usr/local/lib/python3.10/dist-packages (from tensorflow==2.15.0) (1.26.4)\n",
            "Requirement already satisfied: opt-einsum>=2.3.2 in /usr/local/lib/python3.10/dist-packages (from tensorflow==2.15.0) (3.3.0)\n",
            "Requirement already satisfied: packaging in /usr/local/lib/python3.10/dist-packages (from tensorflow==2.15.0) (24.1)\n",
            "Requirement already satisfied: protobuf!=4.21.0,!=4.21.1,!=4.21.2,!=4.21.3,!=4.21.4,!=4.21.5,<5.0.0dev,>=3.20.3 in /usr/local/lib/python3.10/dist-packages (from tensorflow==2.15.0) (3.20.3)\n",
            "Requirement already satisfied: setuptools in /usr/local/lib/python3.10/dist-packages (from tensorflow==2.15.0) (71.0.4)\n",
            "Requirement already satisfied: six>=1.12.0 in /usr/local/lib/python3.10/dist-packages (from tensorflow==2.15.0) (1.16.0)\n",
            "Requirement already satisfied: termcolor>=1.1.0 in /usr/local/lib/python3.10/dist-packages (from tensorflow==2.15.0) (2.4.0)\n",
            "Requirement already satisfied: typing-extensions>=3.6.6 in /usr/local/lib/python3.10/dist-packages (from tensorflow==2.15.0) (4.12.2)\n",
            "Collecting wrapt<1.15,>=1.11.0 (from tensorflow==2.15.0)\n",
            "  Downloading wrapt-1.14.1-cp310-cp310-manylinux_2_5_x86_64.manylinux1_x86_64.manylinux_2_17_x86_64.manylinux2014_x86_64.whl.metadata (6.7 kB)\n",
            "Requirement already satisfied: tensorflow-io-gcs-filesystem>=0.23.1 in /usr/local/lib/python3.10/dist-packages (from tensorflow==2.15.0) (0.37.1)\n",
            "Requirement already satisfied: grpcio<2.0,>=1.24.3 in /usr/local/lib/python3.10/dist-packages (from tensorflow==2.15.0) (1.64.1)\n",
            "Collecting tensorboard<2.16,>=2.15 (from tensorflow==2.15.0)\n",
            "  Downloading tensorboard-2.15.2-py3-none-any.whl.metadata (1.7 kB)\n",
            "Collecting tensorflow-estimator<2.16,>=2.15.0 (from tensorflow==2.15.0)\n",
            "  Downloading tensorflow_estimator-2.15.0-py2.py3-none-any.whl.metadata (1.3 kB)\n",
            "Collecting keras<2.16,>=2.15.0 (from tensorflow==2.15.0)\n",
            "  Downloading keras-2.15.0-py3-none-any.whl.metadata (2.4 kB)\n",
            "Requirement already satisfied: wheel<1.0,>=0.23.0 in /usr/local/lib/python3.10/dist-packages (from astunparse>=1.6.0->tensorflow==2.15.0) (0.43.0)\n",
            "Requirement already satisfied: google-auth<3,>=1.6.3 in /usr/local/lib/python3.10/dist-packages (from tensorboard<2.16,>=2.15->tensorflow==2.15.0) (2.27.0)\n",
            "Requirement already satisfied: google-auth-oauthlib<2,>=0.5 in /usr/local/lib/python3.10/dist-packages (from tensorboard<2.16,>=2.15->tensorflow==2.15.0) (1.2.1)\n",
            "Requirement already satisfied: markdown>=2.6.8 in /usr/local/lib/python3.10/dist-packages (from tensorboard<2.16,>=2.15->tensorflow==2.15.0) (3.6)\n",
            "Requirement already satisfied: requests<3,>=2.21.0 in /usr/local/lib/python3.10/dist-packages (from tensorboard<2.16,>=2.15->tensorflow==2.15.0) (2.31.0)\n",
            "Requirement already satisfied: tensorboard-data-server<0.8.0,>=0.7.0 in /usr/local/lib/python3.10/dist-packages (from tensorboard<2.16,>=2.15->tensorflow==2.15.0) (0.7.2)\n",
            "Requirement already satisfied: werkzeug>=1.0.1 in /usr/local/lib/python3.10/dist-packages (from tensorboard<2.16,>=2.15->tensorflow==2.15.0) (3.0.3)\n",
            "Requirement already satisfied: cachetools<6.0,>=2.0.0 in /usr/local/lib/python3.10/dist-packages (from google-auth<3,>=1.6.3->tensorboard<2.16,>=2.15->tensorflow==2.15.0) (5.4.0)\n",
            "Requirement already satisfied: pyasn1-modules>=0.2.1 in /usr/local/lib/python3.10/dist-packages (from google-auth<3,>=1.6.3->tensorboard<2.16,>=2.15->tensorflow==2.15.0) (0.4.0)\n",
            "Requirement already satisfied: rsa<5,>=3.1.4 in /usr/local/lib/python3.10/dist-packages (from google-auth<3,>=1.6.3->tensorboard<2.16,>=2.15->tensorflow==2.15.0) (4.9)\n",
            "Requirement already satisfied: requests-oauthlib>=0.7.0 in /usr/local/lib/python3.10/dist-packages (from google-auth-oauthlib<2,>=0.5->tensorboard<2.16,>=2.15->tensorflow==2.15.0) (1.3.1)\n",
            "Requirement already satisfied: charset-normalizer<4,>=2 in /usr/local/lib/python3.10/dist-packages (from requests<3,>=2.21.0->tensorboard<2.16,>=2.15->tensorflow==2.15.0) (3.3.2)\n",
            "Requirement already satisfied: idna<4,>=2.5 in /usr/local/lib/python3.10/dist-packages (from requests<3,>=2.21.0->tensorboard<2.16,>=2.15->tensorflow==2.15.0) (3.7)\n",
            "Requirement already satisfied: urllib3<3,>=1.21.1 in /usr/local/lib/python3.10/dist-packages (from requests<3,>=2.21.0->tensorboard<2.16,>=2.15->tensorflow==2.15.0) (2.0.7)\n",
            "Requirement already satisfied: certifi>=2017.4.17 in /usr/local/lib/python3.10/dist-packages (from requests<3,>=2.21.0->tensorboard<2.16,>=2.15->tensorflow==2.15.0) (2024.7.4)\n",
            "Requirement already satisfied: MarkupSafe>=2.1.1 in /usr/local/lib/python3.10/dist-packages (from werkzeug>=1.0.1->tensorboard<2.16,>=2.15->tensorflow==2.15.0) (2.1.5)\n",
            "Requirement already satisfied: pyasn1<0.7.0,>=0.4.6 in /usr/local/lib/python3.10/dist-packages (from pyasn1-modules>=0.2.1->google-auth<3,>=1.6.3->tensorboard<2.16,>=2.15->tensorflow==2.15.0) (0.6.0)\n",
            "Requirement already satisfied: oauthlib>=3.0.0 in /usr/local/lib/python3.10/dist-packages (from requests-oauthlib>=0.7.0->google-auth-oauthlib<2,>=0.5->tensorboard<2.16,>=2.15->tensorflow==2.15.0) (3.2.2)\n",
            "Downloading tensorflow-2.15.0-cp310-cp310-manylinux_2_17_x86_64.manylinux2014_x86_64.whl (475.2 MB)\n",
            "\u001b[2K   \u001b[90m━━━━━━━━━━━━━━━━━━━━━━━━━━━━━━━━━━━━━━━━\u001b[0m \u001b[32m475.2/475.2 MB\u001b[0m \u001b[31m1.4 MB/s\u001b[0m eta \u001b[36m0:00:00\u001b[0m\n",
            "\u001b[?25hDownloading keras-2.15.0-py3-none-any.whl (1.7 MB)\n",
            "\u001b[2K   \u001b[90m━━━━━━━━━━━━━━━━━━━━━━━━━━━━━━━━━━━━━━━━\u001b[0m \u001b[32m1.7/1.7 MB\u001b[0m \u001b[31m12.0 MB/s\u001b[0m eta \u001b[36m0:00:00\u001b[0m\n",
            "\u001b[?25hDownloading ml_dtypes-0.2.0-cp310-cp310-manylinux_2_17_x86_64.manylinux2014_x86_64.whl (1.0 MB)\n",
            "\u001b[2K   \u001b[90m━━━━━━━━━━━━━━━━━━━━━━━━━━━━━━━━━━━━━━━━\u001b[0m \u001b[32m1.0/1.0 MB\u001b[0m \u001b[31m11.8 MB/s\u001b[0m eta \u001b[36m0:00:00\u001b[0m\n",
            "\u001b[?25hDownloading tensorboard-2.15.2-py3-none-any.whl (5.5 MB)\n",
            "\u001b[2K   \u001b[90m━━━━━━━━━━━━━━━━━━━━━━━━━━━━━━━━━━━━━━━━\u001b[0m \u001b[32m5.5/5.5 MB\u001b[0m \u001b[31m12.4 MB/s\u001b[0m eta \u001b[36m0:00:00\u001b[0m\n",
            "\u001b[?25hDownloading tensorflow_estimator-2.15.0-py2.py3-none-any.whl (441 kB)\n",
            "\u001b[2K   \u001b[90m━━━━━━━━━━━━━━━━━━━━━━━━━━━━━━━━━━━━━━━━\u001b[0m \u001b[32m442.0/442.0 kB\u001b[0m \u001b[31m11.9 MB/s\u001b[0m eta \u001b[36m0:00:00\u001b[0m\n",
            "\u001b[?25hDownloading wrapt-1.14.1-cp310-cp310-manylinux_2_5_x86_64.manylinux1_x86_64.manylinux_2_17_x86_64.manylinux2014_x86_64.whl (77 kB)\n",
            "\u001b[2K   \u001b[90m━━━━━━━━━━━━━━━━━━━━━━━━━━━━━━━━━━━━━━━━\u001b[0m \u001b[32m77.9/77.9 kB\u001b[0m \u001b[31m5.1 MB/s\u001b[0m eta \u001b[36m0:00:00\u001b[0m\n",
            "\u001b[?25hInstalling collected packages: wrapt, tensorflow-estimator, ml-dtypes, keras, tensorboard, tensorflow\n",
            "  Attempting uninstall: wrapt\n",
            "    Found existing installation: wrapt 1.16.0\n",
            "    Uninstalling wrapt-1.16.0:\n",
            "      Successfully uninstalled wrapt-1.16.0\n",
            "  Attempting uninstall: ml-dtypes\n",
            "    Found existing installation: ml-dtypes 0.3.2\n",
            "    Uninstalling ml-dtypes-0.3.2:\n",
            "      Successfully uninstalled ml-dtypes-0.3.2\n",
            "  Attempting uninstall: keras\n",
            "    Found existing installation: keras 3.4.1\n",
            "    Uninstalling keras-3.4.1:\n",
            "      Successfully uninstalled keras-3.4.1\n",
            "  Attempting uninstall: tensorboard\n",
            "    Found existing installation: tensorboard 2.16.2\n",
            "    Uninstalling tensorboard-2.16.2:\n",
            "      Successfully uninstalled tensorboard-2.16.2\n",
            "  Attempting uninstall: tensorflow\n",
            "    Found existing installation: tensorflow 2.16.2\n",
            "    Uninstalling tensorflow-2.16.2:\n",
            "      Successfully uninstalled tensorflow-2.16.2\n",
            "\u001b[31mERROR: pip's dependency resolver does not currently take into account all the packages that are installed. This behaviour is the source of the following dependency conflicts.\n",
            "tensorstore 0.1.63 requires ml-dtypes>=0.3.1, but you have ml-dtypes 0.2.0 which is incompatible.\n",
            "tf-keras 2.17.0 requires tensorflow<2.18,>=2.17, but you have tensorflow 2.15.0 which is incompatible.\u001b[0m\u001b[31m\n",
            "\u001b[0mSuccessfully installed keras-2.15.0 ml-dtypes-0.2.0 tensorboard-2.15.2 tensorflow-2.15.0 tensorflow-estimator-2.15.0 wrapt-1.14.1\n"
          ]
        },
        {
          "output_type": "display_data",
          "data": {
            "application/vnd.colab-display-data+json": {
              "pip_warning": {
                "packages": [
                  "keras",
                  "ml_dtypes",
                  "tensorflow",
                  "wrapt"
                ]
              },
              "id": "a5986a8cf03d42198f9d7b4a2b4fd702"
            }
          },
          "metadata": {}
        }
      ]
    },
    {
      "cell_type": "code",
      "execution_count": null,
      "metadata": {
        "colab": {
          "base_uri": "https://localhost:8080/"
        },
        "id": "nNO6DGRcDlm7",
        "outputId": "c9893880-6e3d-488d-be9e-1ac0c870dcd8"
      },
      "outputs": [
        {
          "output_type": "stream",
          "name": "stdout",
          "text": [
            "Drive already mounted at /content/drive; to attempt to forcibly remount, call drive.mount(\"/content/drive\", force_remount=True).\n"
          ]
        }
      ],
      "source": [
        "import os\n",
        "import math\n",
        "import string\n",
        "\n",
        "import cv2\n",
        "import numpy as np\n",
        "import matplotlib.pyplot as plt\n",
        "from sklearn.model_selection import train_test_split\n",
        "\n",
        "import tensorflow as tf\n",
        "import tensorflow.keras.backend as K\n",
        "from tensorflow.keras.backend import get_value, ctc_decode\n",
        "from tensorflow.keras.models import Sequential, load_model\n",
        "from tensorflow.keras.layers import *\n",
        "from tensorflow.keras.callbacks import EarlyStopping, ReduceLROnPlateau\n",
        "from tensorflow.keras.optimizers import Nadam\n",
        "\n",
        "from google.colab import drive\n",
        "drive.mount('/content/drive')"
      ]
    },
    {
      "cell_type": "code",
      "source": [
        "print(tf.__version__)"
      ],
      "metadata": {
        "colab": {
          "base_uri": "https://localhost:8080/"
        },
        "id": "cvKfHeHWGqRM",
        "outputId": "7c2eb6b5-0d37-444c-d65d-4f8a39d7245e"
      },
      "execution_count": null,
      "outputs": [
        {
          "output_type": "stream",
          "name": "stdout",
          "text": [
            "2.15.0\n"
          ]
        }
      ]
    },
    {
      "cell_type": "markdown",
      "source": [
        "# Разделение выборки на обучающую и тестовую"
      ],
      "metadata": {
        "id": "2M9YSlYM1vK7"
      }
    },
    {
      "cell_type": "code",
      "source": [
        "def labelToNum(label, alphabet):\n",
        "  labelNum = []\n",
        "  for ch in label:\n",
        "    labelNum.append(alphabet.find(ch))\n",
        "  return np.array(labelNum)"
      ],
      "metadata": {
        "id": "zFxcLaSG6m5f"
      },
      "execution_count": null,
      "outputs": []
    },
    {
      "cell_type": "code",
      "source": [
        "def encodeText(texts):\n",
        "  tempChars = []\n",
        "  for i in range(0, len(texts)):\n",
        "    for j in range(0, len(texts[i])):\n",
        "      if not texts[i][j] in tempChars:\n",
        "        tempChars.append(texts[i][j])\n",
        "\n",
        "  alphabet = ''.join(sorted(tempChars))\n",
        "\n",
        "  nums = np.ones([len(texts), max([len(text) for text in texts])], dtype='int64') * len(alphabet)\n",
        "  for i, text in enumerate(texts):\n",
        "    nums[i][:len(text)] = labelToNum(text, alphabet)\n",
        "  return nums, alphabet"
      ],
      "metadata": {
        "id": "4Nc4Pv9t6g4w"
      },
      "execution_count": null,
      "outputs": []
    },
    {
      "cell_type": "code",
      "source": [
        "filesPath = \"/content/drive/MyDrive/Colab Notebooks/OCR наброски\"\n",
        "train_X = np.load(\"%s/train_X.npy\" % filesPath, allow_pickle=True)\n",
        "train_y = np.load(\"%s/train_y.npy\" % filesPath, allow_pickle=True)\n",
        "print(train_y[0])"
      ],
      "metadata": {
        "id": "j2IF02xjEVpg",
        "colab": {
          "base_uri": "https://localhost:8080/"
        },
        "outputId": "21d9eefc-d7cf-4bb1-b467-99e8d08827ae"
      },
      "execution_count": null,
      "outputs": [
        {
          "output_type": "stream",
          "name": "stdout",
          "text": [
            "8oy4777 l-R-W#1' UqBHjO\n"
          ]
        }
      ]
    },
    {
      "cell_type": "code",
      "source": [
        "train_y, alphabet = encodeText(train_y)\n",
        "print(alphabet)\n",
        "print(train_y[0])"
      ],
      "metadata": {
        "id": "hoE97GUlP67m",
        "colab": {
          "base_uri": "https://localhost:8080/"
        },
        "outputId": "9a1edcae-07bc-4a08-ad96-fe4d9a507e6b"
      },
      "execution_count": null,
      "outputs": [
        {
          "output_type": "stream",
          "name": "stdout",
          "text": [
            " !\"#$%&'()*+,-./0123456789:;?@ABCDEFGHIJKLMNOPQRSTUVWXYZ[\\]^_`abcdefghijklmnopqrstuvwxyz{|}~АБВГДЕЖЗИЙКЛМНОПРСТУФХЦЧШЩЪЫЬЭЮЯабвгдежзийклмнопрстуфхцчшщъыьэюяё\n",
            "[ 24  76  86  20  23  23  23   0  73  13  47  13  52   3  17   7   0  50\n",
            "  78  31  37  71  44 157 157 157 157 157 157 157 157 157 157 157 157 157\n",
            " 157 157 157 157 157 157 157 157 157 157 157 157 157 157 157 157 157 157\n",
            " 157 157 157]\n"
          ]
        }
      ]
    },
    {
      "cell_type": "code",
      "source": [
        "train_X, val_X, train_y, val_y  = train_test_split(train_X, train_y, test_size=0.2, random_state=44)\n",
        "train_X, test_X, train_y, test_y  = train_test_split(train_X, train_y, test_size=0.15, random_state=44)\n",
        "\n",
        "np.save(\"%s/OCRdata/train_X.npy\" % filesPath, train_X)\n",
        "np.save(\"%s/OCRdata/train_y.npy\" % filesPath, train_y)\n",
        "np.save(\"%s/OCRdata/test_X.npy\" % filesPath, test_X)\n",
        "np.save(\"%s/OCRdata/test_y.npy\" % filesPath, test_y)\n",
        "np.save(\"%s/OCRdata/val_X.npy\" % filesPath, val_X)\n",
        "np.save(\"%s/OCRdata/val_y.npy\" % filesPath, val_y)"
      ],
      "metadata": {
        "id": "yERc44-4RRBV"
      },
      "execution_count": null,
      "outputs": []
    },
    {
      "cell_type": "markdown",
      "source": [
        "# Загрузка выборки"
      ],
      "metadata": {
        "id": "l5YfZu7a1wQM"
      }
    },
    {
      "cell_type": "code",
      "source": [
        "filesPath = \"/content/drive/MyDrive/Colab Notebooks/OCR наброски\"\n",
        "with open(\"%s/OCRdata/alphabet.txt\" % filesPath, 'r') as file:\n",
        "    alphabet = file.read().replace('\\n', '')\n",
        "print(alphabet)"
      ],
      "metadata": {
        "id": "N-ZOZW7Szsio",
        "colab": {
          "base_uri": "https://localhost:8080/"
        },
        "outputId": "7eb83ded-8277-4c35-82cd-2bcb377e5a96"
      },
      "execution_count": null,
      "outputs": [
        {
          "output_type": "stream",
          "name": "stdout",
          "text": [
            " !\"#$%&'()*+,-./0123456789:;?@ABCDEFGHIJKLMNOPQRSTUVWXYZ[\\]^_`abcdefghijklmnopqrstuvwxyz{|}~АБВГДЕЖЗИЙКЛМНОПРСТУФХЦЧШЩЪЫЬЭЮЯабвгдежзийклмнопрстуфхцчшщъыьэюяё\n"
          ]
        }
      ]
    },
    {
      "cell_type": "code",
      "source": [
        "train_X = np.load(\"%s/OCRdata/train_X.npy\" % filesPath, allow_pickle=True)\n",
        "val_X = np.load(\"%s/OCRdata/val_X.npy\" % filesPath, allow_pickle=True)\n",
        "train_y = np.load(\"%s/OCRdata/train_y.npy\" % filesPath, allow_pickle=True)\n",
        "val_y  = np.load(\"%s/OCRdata/val_y.npy\" % filesPath, allow_pickle=True)"
      ],
      "metadata": {
        "id": "cNxf5VzQz0kr"
      },
      "execution_count": null,
      "outputs": []
    },
    {
      "cell_type": "markdown",
      "source": [
        "# Необходимые функции"
      ],
      "metadata": {
        "id": "aUY2EvkE1xJB"
      }
    },
    {
      "cell_type": "code",
      "source": [
        "def numToLabel(num, alphabet):\n",
        "  text = \"\"\n",
        "  for ch in num:\n",
        "    if ch == len(alphabet): # пустой\n",
        "      break\n",
        "    else:\n",
        "      text += alphabet[ch]\n",
        "  return text"
      ],
      "metadata": {
        "id": "WX-HvOeyz7rD"
      },
      "execution_count": null,
      "outputs": []
    },
    {
      "cell_type": "code",
      "source": [
        "def decodeText(nums):\n",
        "  values = get_value(ctc_decode(nums, input_length=np.ones(nums.shape[0])*nums.shape[1],\n",
        "                                greedy=True)[0][0])\n",
        "  texts = []\n",
        "  for i in range(nums.shape[0]):\n",
        "    value = values[i]\n",
        "    texts.append(numToLabel(value[value >= 0], alphabet))\n",
        "  return texts"
      ],
      "metadata": {
        "id": "SnkCXK5vO8YK"
      },
      "execution_count": null,
      "outputs": []
    },
    {
      "cell_type": "code",
      "source": [
        "class CERMetric(tf.keras.metrics.Metric):\n",
        "    \"\"\"\n",
        "    A custom Keras metric to compute the Character Error Rate\n",
        "    \"\"\"\n",
        "    def __init__(self, name='CER_metric', **kwargs):\n",
        "        super(CERMetric, self).__init__(name=name, **kwargs)\n",
        "        self.cer_accumulator = self.add_weight(name=\"total_cer\", initializer=\"zeros\")\n",
        "        self.counter = self.add_weight(name=\"cer_count\", initializer=\"zeros\")\n",
        "\n",
        "    def update_state(self, y_true, y_pred, sample_weight=None):\n",
        "        input_shape = K.shape(y_pred)\n",
        "        input_length = tf.ones(shape=input_shape[0]) * K.cast(input_shape[1], 'float32')\n",
        "\n",
        "        decode, log = K.ctc_decode(y_pred, input_length, greedy=True)\n",
        "\n",
        "        decode = K.ctc_label_dense_to_sparse(decode[0], K.cast(input_length, 'int32'))\n",
        "        y_true_sparse = K.ctc_label_dense_to_sparse(y_true, K.cast(input_length, 'int32'))\n",
        "        y_true_sparse = tf.sparse.retain(y_true_sparse, tf.not_equal(y_true_sparse.values, tf.math.reduce_max(y_true_sparse.values)))\n",
        "\n",
        "        decode = tf.sparse.retain(decode, tf.not_equal(decode.values, -1))\n",
        "        distance = tf.edit_distance(decode, y_true_sparse, normalize=True)\n",
        "\n",
        "        self.cer_accumulator.assign_add(tf.reduce_sum(distance))\n",
        "        self.counter.assign_add(K.cast(len(y_true), 'float32'))\n",
        "\n",
        "    def result(self):\n",
        "        return tf.math.divide_no_nan(self.cer_accumulator, self.counter)\n",
        "\n",
        "    def reset_state(self):\n",
        "        self.cer_accumulator.assign(0.0)\n",
        "        self.counter.assign(0.0)\n",
        "\n",
        "\n",
        "def CTCLoss(y_true, y_pred):\n",
        "    \"\"\"\n",
        "    Compute the training-time loss value\n",
        "    \"\"\"\n",
        "    batch_len = tf.cast(tf.shape(y_true)[0], dtype=\"int64\")\n",
        "    input_length = tf.cast(tf.shape(y_pred)[1], dtype=\"int64\")\n",
        "    label_length = tf.cast(tf.shape(y_true)[1], dtype=\"int64\")\n",
        "\n",
        "    input_length = input_length * tf.ones(shape=(batch_len, 1), dtype=\"int64\")\n",
        "    label_length = label_length * tf.ones(shape=(batch_len, 1), dtype=\"int64\")\n",
        "\n",
        "    loss = K.ctc_batch_cost(y_true, y_pred, input_length, label_length)\n",
        "    return loss"
      ],
      "metadata": {
        "id": "QOa1UJ8PRWEp"
      },
      "execution_count": null,
      "outputs": []
    },
    {
      "cell_type": "markdown",
      "source": [
        "# Обучение"
      ],
      "metadata": {
        "id": "HigCUR-Z1xvG"
      }
    },
    {
      "cell_type": "code",
      "source": [
        "model = Sequential()\n",
        "\n",
        "model.add(Conv2D(64, (5, 5), padding='same', activation=LeakyReLU(alpha=0.01), input_shape=(800, 64, 1)))\n",
        "model.add(MaxPooling2D((2, 2)))\n",
        "model.add(Conv2D(128, (5, 5), padding='same', activation=LeakyReLU(alpha=0.01)))\n",
        "model.add(MaxPooling2D((1, 2)))\n",
        "model.add(Conv2D(128, (3, 3), padding='same', activation=LeakyReLU(alpha=0.01)))\n",
        "model.add(MaxPooling2D((2, 2)))\n",
        "model.add(BatchNormalization())\n",
        "model.add(Conv2D(256, (3, 3), padding='same', activation=LeakyReLU(alpha=0.01)))\n",
        "model.add(Conv2D(256, (3, 3), padding='same', activation=LeakyReLU(alpha=0.01)))\n",
        "model.add(MaxPooling2D((2, 2)))\n",
        "model.add(Conv2D(512, (3, 3), padding='same', activation=LeakyReLU(alpha=0.01)))\n",
        "model.add(MaxPooling2D((1, 2)))\n",
        "model.add(BatchNormalization())\n",
        "model.add(Conv2D(512, (3, 3), padding='same', activation=LeakyReLU(alpha=0.01)))\n",
        "model.add(MaxPooling2D((1, 2)))\n",
        "model.add(Reshape((100, 512)))\n",
        "model.add(Bidirectional(LSTM(256, return_sequences=True)))\n",
        "model.add(Bidirectional(LSTM(256, return_sequences=True)))\n",
        "model.add(Dense(len(alphabet) + 1, activation='softmax')) # +1 for ctc blank\n",
        "\n",
        "# model.summary()\n",
        "\n",
        "model.compile(optimizer=Nadam(learning_rate=0.001, clipnorm=1.0), loss=CTCLoss, metrics=[CERMetric()])"
      ],
      "metadata": {
        "id": "dBIbgCLZRqsg"
      },
      "execution_count": null,
      "outputs": []
    },
    {
      "cell_type": "code",
      "source": [
        "history = model.fit(train_X, train_y, validation_data=(val_X, val_y),\n",
        "                    epochs=30, batch_size=64,\n",
        "                    callbacks=[EarlyStopping(patience=10, restore_best_weights=True, monitor='val_CER_metric'),\n",
        "                              ReduceLROnPlateau(factor=0.5, min_lr=1e-5, patience=4, monitor='val_CER_metric')],\n",
        "                    verbose=1)"
      ],
      "metadata": {
        "id": "SkhWYyxyRvai"
      },
      "execution_count": null,
      "outputs": []
    },
    {
      "cell_type": "code",
      "source": [
        "model.save('/content/drive/MyDrive/Colab Notebooks/OCR наброски/crnn.h5')\n",
        "np.save('/content/drive/MyDrive/Colab Notebooks/OCR наброски/crnn_history.h5', history.history)"
      ],
      "metadata": {
        "id": "jGHb2holRygz"
      },
      "execution_count": null,
      "outputs": []
    },
    {
      "cell_type": "markdown",
      "source": [
        "# Тестирование модели"
      ],
      "metadata": {
        "id": "84TblJ4S1ylz"
      }
    },
    {
      "cell_type": "code",
      "source": [
        "train_history = np.load(\"/content/drive/MyDrive/Colab Notebooks/OCR наброски/CRNN_history.npy\", allow_pickle=True).item()"
      ],
      "metadata": {
        "id": "gy8ZtLmAGNbK"
      },
      "execution_count": null,
      "outputs": []
    },
    {
      "cell_type": "code",
      "source": [
        "fig, axes = plt.subplots(figsize=(12, 4), ncols=2, nrows=1)\n",
        "\n",
        "axes[0].plot(train_history['loss'], label=\"Обучение\", linewidth = 3)\n",
        "axes[0].plot(train_history['val_loss'], label=\"Валидация\", linewidth = 3, linestyle = \"dashed\")\n",
        "axes[0].set_xlabel(\"эпохи\")\n",
        "axes[0].set_ylabel(\"потери\")\n",
        "axes[0].grid()\n",
        "axes[0].legend()\n",
        "\n",
        "axes[1].plot(train_history['CER_metric'], label='Обучение', linewidth = 3)\n",
        "axes[1].plot(train_history['val_CER_metric'], label='Валидация', linewidth = 3, linestyle = \"dashed\")\n",
        "axes[1].set_xlabel(\"эпохи\")\n",
        "axes[1].set_ylabel(\"CER\")\n",
        "axes[1].grid()\n",
        "axes[1].legend()\n",
        "\n",
        "plt.rcParams.update({'font.size': 12})\n",
        "plt.show()"
      ],
      "metadata": {
        "colab": {
          "base_uri": "https://localhost:8080/",
          "height": 388
        },
        "id": "GgZTmiodF9h7",
        "outputId": "d70bfd8a-9487-46bd-c817-069941635146"
      },
      "execution_count": null,
      "outputs": [
        {
          "output_type": "display_data",
          "data": {
            "text/plain": [
              "<Figure size 1200x400 with 2 Axes>"
            ],
            "image/png": "[encoded data removed]"
          },
          "metadata": {}
        }
      ]
    },
    {
      "cell_type": "code",
      "source": [
        "model = load_model('/content/drive/MyDrive/Colab Notebooks/OCR наброски/CRNN_model.h5', custom_objects={'CTCLoss' : CTCLoss, 'CERMetric': CERMetric})"
      ],
      "metadata": {
        "id": "riDR3yoSZgJ9"
      },
      "execution_count": null,
      "outputs": []
    },
    {
      "cell_type": "code",
      "source": [
        "filesPath = \"/content/drive/MyDrive/Colab Notebooks/OCR наброски\"\n",
        "test_X = np.load(\"%s/OCRdata/test_X.npy\" % filesPath, allow_pickle=True)\n",
        "test_y = np.load(\"%s/OCRdata/test_y.npy\" % filesPath, allow_pickle=True)\n",
        "with open(\"%s/OCRdata/alphabet.txt\" % filesPath, 'r') as file:\n",
        "    alphabet = file.read().replace('\\n', '')"
      ],
      "metadata": {
        "id": "VixI_gMw0J8O"
      },
      "execution_count": null,
      "outputs": []
    },
    {
      "cell_type": "code",
      "source": [
        "model.evaluate(test_X, test_y)"
      ],
      "metadata": {
        "colab": {
          "base_uri": "https://localhost:8080/"
        },
        "id": "H8hQYNHGipp5",
        "outputId": "249060a2-f0b8-483e-da47-0a80d1a7d516"
      },
      "execution_count": null,
      "outputs": [
        {
          "output_type": "stream",
          "name": "stdout",
          "text": [
            "90/90 [==============================] - 887s 10s/step - loss: 0.1206 - CER_metric: 0.0012\n"
          ]
        },
        {
          "output_type": "execute_result",
          "data": {
            "text/plain": [
              "[0.12057755887508392, 0.0012068748474121094]"
            ]
          },
          "metadata": {},
          "execution_count": 10
        }
      ]
    },
    {
      "cell_type": "code",
      "source": [
        "indx = 597\n",
        "predicts = model.predict(test_X[indx:indx+1])\n",
        "predicts = decodeText(predicts)\n",
        "plt.imshow(cv2.rotate(\n",
        "      (test_X[indx]).astype(np.uint8),cv2.ROTATE_90_COUNTERCLOCKWISE),\n",
        "      cmap='gray')\n",
        "plt.axis('off')\n",
        "print(f'Исходник: {numToLabel(test_y[indx], alphabet)}\\nРаспознавание: {predicts}')"
      ],
      "metadata": {
        "colab": {
          "base_uri": "https://localhost:8080/",
          "height": 128
        },
        "id": "7w6jf0wcNk6d",
        "outputId": "4831c407-fa3f-4f49-d1e1-cf9c3175f114"
      },
      "execution_count": null,
      "outputs": [
        {
          "output_type": "stream",
          "name": "stdout",
          "text": [
            "1/1 [==============================] - 0s 416ms/step\n",
            "Исходник: фанфаристы коллагеновому разложившимся\n",
            "Распознавание: ['фанфаристы коллагеновому разложившимся']\n"
          ]
        },
        {
          "output_type": "display_data",
          "data": {
            "text/plain": [
              "<Figure size 640x480 with 1 Axes>"
            ],
            "image/png": "[encoded data removed]"
          },
          "metadata": {}
        }
      ]
    }
  ]
}